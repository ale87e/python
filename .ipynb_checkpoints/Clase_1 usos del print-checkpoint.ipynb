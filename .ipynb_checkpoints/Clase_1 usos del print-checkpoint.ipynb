{
 "cells": [
  {
   "cell_type": "code",
   "execution_count": 1,
   "id": "c214c5da",
   "metadata": {},
   "outputs": [
    {
     "name": "stdout",
     "output_type": "stream",
     "text": [
      "¡Hola, Mundo!\n"
     ]
    }
   ],
   "source": [
    "print(\"¡Hola, Mundo!\")\n",
    "\n",
    "#Como puedes ver, el primer programa consta de las siguientes partes:\n",
    "\n",
    "#La palabra print.\n",
    "#Un paréntesis de apertura.\n",
    "#Una comilla.\n",
    "#Una línea de texto: ¡Hola, Mundo!.\n",
    "#Otra comilla.\n",
    "#Un paréntesis de cierre."
   ]
  },
  {
   "cell_type": "markdown",
   "id": "aa937ce0",
   "metadata": {},
   "source": [
    "### Actividad 1 Realiza tu primer print"
   ]
  },
  {
   "cell_type": "code",
   "execution_count": null,
   "id": "a3da65c2",
   "metadata": {},
   "outputs": [],
   "source": [
    "print(\"mi primer print\")"
   ]
  },
  {
   "cell_type": "markdown",
   "id": "b8234be5",
   "metadata": {},
   "source": [
    "### Juega con tu primer print: imprime tu nombre, elimina las comillas, elimina los parentesis, imprime en distintas lineas, usa caracteres especiales"
   ]
  },
  {
   "cell_type": "code",
   "execution_count": 3,
   "id": "5520f925",
   "metadata": {},
   "outputs": [
    {
     "name": "stdout",
     "output_type": "stream",
     "text": [
      "Alejandro\n"
     ]
    }
   ],
   "source": [
    "print(\"Alejandro\")"
   ]
  },
  {
   "cell_type": "code",
   "execution_count": 4,
   "id": "d60cd67b",
   "metadata": {},
   "outputs": [
    {
     "ename": "SyntaxError",
     "evalue": "EOL while scanning string literal (Temp/ipykernel_12624/3761991570.py, line 1)",
     "output_type": "error",
     "traceback": [
      "\u001b[1;36m  File \u001b[1;32m\"C:\\Users\\ale87\\AppData\\Local\\Temp/ipykernel_12624/3761991570.py\"\u001b[1;36m, line \u001b[1;32m1\u001b[0m\n\u001b[1;33m    print(\"Alejandro)\u001b[0m\n\u001b[1;37m                     ^\u001b[0m\n\u001b[1;31mSyntaxError\u001b[0m\u001b[1;31m:\u001b[0m EOL while scanning string literal\n"
     ]
    }
   ],
   "source": [
    "print(\"Alejandro)"
   ]
  },
  {
   "cell_type": "code",
   "execution_count": 5,
   "id": "bec5e50c",
   "metadata": {},
   "outputs": [
    {
     "ename": "SyntaxError",
     "evalue": "unexpected EOF while parsing (Temp/ipykernel_12624/1868487701.py, line 1)",
     "output_type": "error",
     "traceback": [
      "\u001b[1;36m  File \u001b[1;32m\"C:\\Users\\ale87\\AppData\\Local\\Temp/ipykernel_12624/1868487701.py\"\u001b[1;36m, line \u001b[1;32m1\u001b[0m\n\u001b[1;33m    print(\"Alejandro\"\u001b[0m\n\u001b[1;37m                     ^\u001b[0m\n\u001b[1;31mSyntaxError\u001b[0m\u001b[1;31m:\u001b[0m unexpected EOF while parsing\n"
     ]
    }
   ],
   "source": [
    "print(\"Alejandro\""
   ]
  },
  {
   "cell_type": "code",
   "execution_count": 6,
   "id": "17e0a845",
   "metadata": {},
   "outputs": [
    {
     "name": "stdout",
     "output_type": "stream",
     "text": [
      "Alejandro\n"
     ]
    }
   ],
   "source": [
    "print('Alejandro')"
   ]
  },
  {
   "cell_type": "code",
   "execution_count": 7,
   "id": "72d2fa23",
   "metadata": {},
   "outputs": [
    {
     "ename": "SyntaxError",
     "evalue": "EOL while scanning string literal (Temp/ipykernel_12624/1567095235.py, line 1)",
     "output_type": "error",
     "traceback": [
      "\u001b[1;36m  File \u001b[1;32m\"C:\\Users\\ale87\\AppData\\Local\\Temp/ipykernel_12624/1567095235.py\"\u001b[1;36m, line \u001b[1;32m1\u001b[0m\n\u001b[1;33m    print('A\u001b[0m\n\u001b[1;37m            ^\u001b[0m\n\u001b[1;31mSyntaxError\u001b[0m\u001b[1;31m:\u001b[0m EOL while scanning string literal\n"
     ]
    }
   ],
   "source": [
    "print('A\n",
    "      lejandro')"
   ]
  },
  {
   "cell_type": "code",
   "execution_count": 9,
   "id": "d23cf442",
   "metadata": {},
   "outputs": [
    {
     "name": "stdout",
     "output_type": "stream",
     "text": [
      "A      lejandro\n"
     ]
    }
   ],
   "source": [
    "print(\"A \\\n",
    "      lejandro\")"
   ]
  },
  {
   "cell_type": "markdown",
   "id": "4efcdad6",
   "metadata": {},
   "source": [
    "### Actividad 2 Utiliza el print para imprimir en dos lineas distintas o mas "
   ]
  },
  {
   "cell_type": "code",
   "execution_count": 11,
   "id": "53fada10",
   "metadata": {},
   "outputs": [
    {
     "name": "stdout",
     "output_type": "stream",
     "text": [
      "Santiago de Chile\n",
      "Es una ciudad de Chile\n"
     ]
    }
   ],
   "source": [
    "print(\"Santiago de Chile\")\n",
    "print(\"Es una ciudad de Chile\")"
   ]
  },
  {
   "cell_type": "code",
   "execution_count": 19,
   "id": "69b3c176",
   "metadata": {},
   "outputs": [
    {
     "name": "stdout",
     "output_type": "stream",
     "text": [
      "Santiago de Chile \n",
      "Es una ciudad de Chile\n",
      "Santiago de Chile \\ Es una ciudad de Chile\n"
     ]
    }
   ],
   "source": [
    "#Uso de caracter especial \\n, el \\ es un caracter de escape permite introducir una inclusion especial\n",
    "print(\"Santiago de Chile \\nEs una ciudad de Chile\")\n",
    "\n",
    "print(\"Santiago de Chile \\\\ Es una ciudad de Chile\")"
   ]
  },
  {
   "cell_type": "code",
   "execution_count": 20,
   "id": "edae292b",
   "metadata": {},
   "outputs": [
    {
     "ename": "SyntaxError",
     "evalue": "EOL while scanning string literal (Temp/ipykernel_12624/2053971215.py, line 1)",
     "output_type": "error",
     "traceback": [
      "\u001b[1;36m  File \u001b[1;32m\"C:\\Users\\ale87\\AppData\\Local\\Temp/ipykernel_12624/2053971215.py\"\u001b[1;36m, line \u001b[1;32m1\u001b[0m\n\u001b[1;33m    print(\"\\\")\u001b[0m\n\u001b[1;37m              ^\u001b[0m\n\u001b[1;31mSyntaxError\u001b[0m\u001b[1;31m:\u001b[0m EOL while scanning string literal\n"
     ]
    }
   ],
   "source": [
    "print(\"\\\")"
   ]
  },
  {
   "cell_type": "code",
   "execution_count": 21,
   "id": "dc705e26",
   "metadata": {},
   "outputs": [
    {
     "name": "stdout",
     "output_type": "stream",
     "text": [
      "Santiago de Chile\n",
      "\n",
      "\n",
      "Es una ciudad de Chile\n"
     ]
    }
   ],
   "source": [
    "print(\"Santiago de Chile\") \n",
    "print()\n",
    "print(\"\")\n",
    "print(\"Es una ciudad de Chile\")"
   ]
  },
  {
   "cell_type": "code",
   "execution_count": 22,
   "id": "04b97586",
   "metadata": {},
   "outputs": [
    {
     "name": "stdout",
     "output_type": "stream",
     "text": [
      "Santiago de Chile Es una ciudad de Chile\n"
     ]
    }
   ],
   "source": [
    "print(\"Santiago de Chile\", \"Es una ciudad de Chile\")"
   ]
  },
  {
   "cell_type": "code",
   "execution_count": 24,
   "id": "f5a3cf7c",
   "metadata": {},
   "outputs": [
    {
     "name": "stdout",
     "output_type": "stream",
     "text": [
      "Santiago de Chile Es una ciudad de Chile. Viva Chile\n"
     ]
    }
   ],
   "source": [
    "print(\"Santiago de Chile\", \"Es una ciudad de Chile.\", end=\" \")\n",
    "print(\"Viva Chile\")"
   ]
  },
  {
   "cell_type": "code",
   "execution_count": 28,
   "id": "a14a7f22",
   "metadata": {},
   "outputs": [
    {
     "name": "stdout",
     "output_type": "stream",
     "text": [
      "Santiago de Chile Es una ciudad de Chile.\n",
      " \n",
      " \n",
      " \n",
      "Viva Chile\n"
     ]
    }
   ],
   "source": [
    "print(\"Santiago de Chile\", \"Es una ciudad de Chile.\", end=\"\\n \\n \\n \\n\")\n",
    "print(\"Viva Chile\")"
   ]
  },
  {
   "cell_type": "code",
   "execution_count": 30,
   "id": "01f83a63",
   "metadata": {},
   "outputs": [
    {
     "name": "stdout",
     "output_type": "stream",
     "text": [
      "Santiago de Chile-Es una ciudad de Chile.-Viva Chile\n"
     ]
    }
   ],
   "source": [
    "print(\"Santiago de Chile\", \"Es una ciudad de Chile.\", \"Viva Chile\", sep=\"-\")"
   ]
  },
  {
   "cell_type": "code",
   "execution_count": 35,
   "id": "fae485ee",
   "metadata": {},
   "outputs": [
    {
     "name": "stdout",
     "output_type": "stream",
     "text": [
      "Santiago de Chile-Es una ciudad de Chile.-Viva Chile*Viva Chile*"
     ]
    }
   ],
   "source": [
    "print(\"Santiago de Chile\", \"Es una ciudad de Chile.\", \"Viva Chile\", sep=\"-\", end=\"*\")\n",
    "print(\"Viva Chile\", sep=\"-\", end=\"*\")"
   ]
  },
  {
   "cell_type": "code",
   "execution_count": 38,
   "id": "519789ab",
   "metadata": {},
   "outputs": [
    {
     "name": "stdout",
     "output_type": "stream",
     "text": [
      "Santiago de Chile***Es una ciudad de Chile.***Viva Chile...Viva Chile\n"
     ]
    }
   ],
   "source": [
    "print(\"Santiago de Chile\", \"Es una ciudad de Chile.\", \"Viva Chile\", sep=\"***\", end=\"...\")\n",
    "print(\"Viva Chile\")\n",
    "#Salida esperada: Santiago de Chile***Es una ciudad de Chile.***Viva Chile...Viva Chile"
   ]
  }
 ],
 "metadata": {
  "kernelspec": {
   "display_name": "Python 3 (ipykernel)",
   "language": "python",
   "name": "python3"
  },
  "language_info": {
   "codemirror_mode": {
    "name": "ipython",
    "version": 3
   },
   "file_extension": ".py",
   "mimetype": "text/x-python",
   "name": "python",
   "nbconvert_exporter": "python",
   "pygments_lexer": "ipython3",
   "version": "3.9.7"
  }
 },
 "nbformat": 4,
 "nbformat_minor": 5
}
