{
 "cells": [
  {
   "cell_type": "markdown",
   "id": "2727258e",
   "metadata": {},
   "source": [
    "Son Valores que estan determinados por el mismo literal, no necesitan un contexto o conocimiento adicional \n",
    "1255\n",
    "e"
   ]
  },
  {
   "cell_type": "code",
   "execution_count": 1,
   "id": "bc94773d",
   "metadata": {},
   "outputs": [
    {
     "name": "stdout",
     "output_type": "stream",
     "text": [
      "1\n",
      "1\n"
     ]
    }
   ],
   "source": [
    "print(\"1\") # Cadena de texto \n",
    "print(1) # Entero\n"
   ]
  },
  {
   "cell_type": "code",
   "execution_count": 6,
   "id": "e6490d29",
   "metadata": {},
   "outputs": [
    {
     "name": "stdout",
     "output_type": "stream",
     "text": [
      "1.1\n",
      "1.0\n",
      "0.1\n"
     ]
    }
   ],
   "source": [
    "print(1.1) # Flotante\n",
    "print(1.)\n",
    "print(.1)"
   ]
  },
  {
   "cell_type": "code",
   "execution_count": 4,
   "id": "9a94d48e",
   "metadata": {},
   "outputs": [
    {
     "name": "stdout",
     "output_type": "stream",
     "text": [
      "1111111111\n",
      "1111111111\n",
      "-1111111111\n",
      "-1111111111\n"
     ]
    }
   ],
   "source": [
    "print(1_111_111_111)\n",
    "print(1111111111)\n",
    "print(-1_111_111_111)\n",
    "print(-1111111111)"
   ]
  },
  {
   "cell_type": "code",
   "execution_count": 5,
   "id": "dde0cd1e",
   "metadata": {},
   "outputs": [
    {
     "name": "stdout",
     "output_type": "stream",
     "text": [
      "153391689\n",
      "73300775185\n"
     ]
    }
   ],
   "source": [
    "print(0o1111111111)\n",
    "print(0x1111111111)"
   ]
  },
  {
   "cell_type": "code",
   "execution_count": 8,
   "id": "d3138e68",
   "metadata": {},
   "outputs": [
    {
     "name": "stdout",
     "output_type": "stream",
     "text": [
      "<class 'int'>\n",
      "<class 'float'>\n"
     ]
    }
   ],
   "source": [
    "a=4\n",
    "b=4.0\n",
    "print(type(a))\n",
    "print(type(b))"
   ]
  },
  {
   "cell_type": "code",
   "execution_count": 12,
   "id": "1b5fd2ca",
   "metadata": {},
   "outputs": [
    {
     "name": "stdout",
     "output_type": "stream",
     "text": [
      "300000000.0\n"
     ]
    }
   ],
   "source": [
    "print(3e8) \n",
    "#condicion del uso del exponente antes de la e pueden uasrse numeros enteros o flotantes \n",
    "#despues de la e solo numeros enteros"
   ]
  },
  {
   "cell_type": "code",
   "execution_count": 16,
   "id": "c3852424",
   "metadata": {},
   "outputs": [
    {
     "name": "stdout",
     "output_type": "stream",
     "text": [
      "6.62607e+34\n",
      "1e-28\n",
      "1\n"
     ]
    }
   ],
   "source": [
    "#Constantes\n",
    "print(6.62607e34)\n",
    "print(0.0000000000000000000000000001)\n",
    "print(1)"
   ]
  },
  {
   "cell_type": "code",
   "execution_count": 17,
   "id": "5b2a9c49",
   "metadata": {},
   "outputs": [
    {
     "name": "stdout",
     "output_type": "stream",
     "text": [
      "\"Viva Chile\"\n",
      "\"Viva Chile\"\n"
     ]
    }
   ],
   "source": [
    "print(\"\\\"Viva Chile\\\"\")\n",
    "print('\"Viva Chile\"')"
   ]
  },
  {
   "cell_type": "code",
   "execution_count": 20,
   "id": "66866417",
   "metadata": {},
   "outputs": [
    {
     "name": "stdout",
     "output_type": "stream",
     "text": [
      "True\n",
      "False\n",
      "True\n",
      "False\n"
     ]
    }
   ],
   "source": [
    "print(True)\n",
    "print(False)\n",
    "print(True>False)\n",
    "print(True<False)\n"
   ]
  },
  {
   "cell_type": "code",
   "execution_count": 22,
   "id": "f21da584",
   "metadata": {},
   "outputs": [
    {
     "name": "stdout",
     "output_type": "stream",
     "text": [
      "\"Hola\"\n",
      "\"\"¿Como estas?\"\"\n",
      "\"\"\"Bien\"\"\"\n"
     ]
    }
   ],
   "source": [
    "print('\"Hola\"')\n",
    "print('\"\"¿Como estas?\"\"')\n",
    "print('\"\"\"Bien\"\"\"')"
   ]
  },
  {
   "cell_type": "code",
   "execution_count": 23,
   "id": "931dfe4e",
   "metadata": {},
   "outputs": [
    {
     "name": "stdout",
     "output_type": "stream",
     "text": [
      "0\n",
      "1\n",
      "2\n",
      "3\n"
     ]
    }
   ],
   "source": [
    "print(int('00',2))  # Imprime '0'\n",
    "print(int('01',2))  # Imprime '1'\n",
    "print(int('10',2))  # Imprime '2'\n",
    "print(int('11',2))  # Imprime '3'"
   ]
  },
  {
   "cell_type": "code",
   "execution_count": null,
   "id": "23c9729e",
   "metadata": {},
   "outputs": [],
   "source": []
  }
 ],
 "metadata": {
  "kernelspec": {
   "display_name": "Python 3 (ipykernel)",
   "language": "python",
   "name": "python3"
  },
  "language_info": {
   "codemirror_mode": {
    "name": "ipython",
    "version": 3
   },
   "file_extension": ".py",
   "mimetype": "text/x-python",
   "name": "python",
   "nbconvert_exporter": "python",
   "pygments_lexer": "ipython3",
   "version": "3.9.7"
  }
 },
 "nbformat": 4,
 "nbformat_minor": 5
}
